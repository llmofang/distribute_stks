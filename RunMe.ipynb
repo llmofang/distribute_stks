{
 "cells": [
  {
   "cell_type": "code",
   "execution_count": 50,
   "metadata": {
    "collapsed": true
   },
   "outputs": [],
   "source": [
    "from distribute_stks import *"
   ]
  },
  {
   "cell_type": "code",
   "execution_count": 51,
   "metadata": {
    "collapsed": false
   },
   "outputs": [
    {
     "name": "stdout",
     "output_type": "stream",
     "text": [
      "海通318\n",
      "中信716\n",
      "东方500\n",
      "国泰君安998\n",
      "古木450\n",
      "data length: 503, data:\n",
      "\n",
      "    accountname stockcode            sym  amount\n",
      "0    mshtong318    601818      lixinxuan  541700\n",
      "1    mshtong318    601818    xuxiaoqiang  541700\n",
      "2    mshtong318    601818      zhangchao  541700\n",
      "3    mshtong318    600039      lixinxuan  180000\n",
      "4    mshtong318    600039    xuxiaoqiang  180000\n",
      "5    mshtong318    600039      zhangchao  170000\n",
      "6    mshtong318    601166       dingding     500\n",
      "7    mshtong318    601166      lixinxuan  128600\n",
      "8    mshtong318    601166    xuxiaoqiang  128600\n",
      "9    mshtong318    601166      zhangchao  128600\n",
      "10   mshtong318    000686       dingding     200\n",
      "11   mshtong318    000686      lixinxuan  119300\n",
      "12   mshtong318    000686    xuxiaoqiang  119300\n",
      "13   mshtong318    000686      zhangchao  119300\n",
      "14   mshtong318    600744    xuxiaoqiang  104200\n",
      "15   mshtong318    002031      zhangchao  102800\n",
      "16   mshtong318    601866      zhangchao   93500\n",
      "17   mshtong318    601018    xuxiaoqiang   73000\n",
      "18   mshtong318    002496      lixinxuan   72300\n",
      "19   mshtong318    601318      lixinxuan   30000\n",
      "20   mshtong318    601318    xuxiaoqiang    9600\n",
      "21   mshtong318    601318      zhangchao   30000\n",
      "22   mshtong318    002600      lixinxuan   68400\n",
      "23   mshtong318    600132      lixinxuan   40000\n",
      "24   mshtong318    600132    xuxiaoqiang   24300\n",
      "25   mshtong318    002506    xuxiaoqiang   63900\n",
      "26   mshtong318    600403      lixinxuan   63800\n",
      "27   mshtong318    000795      zhangchao   61800\n",
      "28   mshtong318    002266    xuxiaoqiang   61100\n",
      "29   mshtong318    002663      lixinxuan   60700\n",
      "..          ...       ...            ...     ...\n",
      "473     gmzx450    300083  zhangjinsheng   90400\n",
      "474     gmzx450    000587     yanlongcan   32700\n",
      "475     gmzx450    002470      zhuruonan   22300\n",
      "476     gmzx450    002081      zhuruonan   11500\n",
      "477     gmzx450    603369  zhangjinsheng  125900\n",
      "478     gmzx450    601939        xiaocan  288500\n",
      "479     gmzx450    601939  zhangjinsheng  288500\n",
      "480     gmzx450    300193  zhangjinsheng   16600\n",
      "481     gmzx450    000692  zhangjinsheng   55200\n",
      "482     gmzx450    000059      zhuruonan   42500\n",
      "483     gmzx450    002504     yanlongcan   17000\n",
      "484     gmzx450    600271     yanlongcan   21600\n",
      "485     gmzx450    600583      zhuruonan   21100\n",
      "486     gmzx450    600060  zhangjinsheng   21600\n",
      "487     gmzx450    600585     yanlongcan   10600\n",
      "488     gmzx450    600256      zhuruonan   70300\n",
      "489     gmzx450    300383      zhuruonan    5300\n",
      "490     gmzx450    002083     yanlongcan   26200\n",
      "491     gmzx450    002467      zhuruonan   37600\n",
      "492     gmzx450    000501  zhangjinsheng   26500\n",
      "493     gmzx450    300118  zhangjinsheng   27000\n",
      "494     gmzx450    601001      zhuruonan   56500\n",
      "495     gmzx450    600327      zhuruonan   16100\n",
      "496     gmzx450    000848  zhangjinsheng   10800\n",
      "497     gmzx450    603167      zhuruonan   47500\n",
      "498     gmzx450    600845     yanlongcan   23700\n",
      "499     gmzx450    600816       dingding     100\n",
      "500     gmzx450    600816      zhuruonan   20400\n",
      "501     gmzx450    600298  zhangjinsheng    5300\n",
      "502     gmzx450    600299      zhuruonan   32000\n",
      "\n",
      "[503 rows x 4 columns]\n"
     ]
    }
   ],
   "source": [
    "distribute_stks(diretory='ms20161125', filename='ms20161125.xls', host='10.0.2.2', port = 52800)"
   ]
  },
  {
   "cell_type": "code",
   "execution_count": 52,
   "metadata": {
    "collapsed": false
   },
   "outputs": [
    {
     "name": "stdout",
     "output_type": "stream",
     "text": [
      "美联中信018\n",
      "美联中信346\n",
      "data length: 23, data:\n",
      "\n",
      "   accountname stockcode          sym  amount\n",
      "0      mlzx018    300059     dingding     100\n",
      "1      mlzx018    300059      xiaocan   48100\n",
      "2      mlzx018    000626      xiaocan   47000\n",
      "3      mlzx018    002292      xiaocan   28600\n",
      "4      mlzx018    600571      xiaocan   27900\n",
      "5      mlzx018    603019      xiaocan   14800\n",
      "6      mlzx018    002349      xiaocan   11300\n",
      "7      mlzx018    000938      xiaocan    8300\n",
      "8      mlzx018    002657      xiaocan    6300\n",
      "9      mlzx018    300471      xiaocan    6600\n",
      "10     mlzx018    002739      xiaocan    5000\n",
      "11     mlzx018    002184      xiaocan    4600\n",
      "12     mlzx018    002783      xiaocan    3400\n",
      "13     mlzx018    300038      xiaocan    3800\n",
      "15     mlzx346    000626    lixinxuan   20000\n",
      "16     mlzx346    000626      xiaocan   20000\n",
      "17     mlzx346    000626  xuxiaoqiang   20000\n",
      "18     mlzx346    000626    zhangchao   20000\n",
      "19     mlzx346    000626    zhuruonan   20000\n",
      "20     mlzx346    002292     dingding     900\n",
      "21     mlzx346    002292      xiaocan   26000\n",
      "22     mlzx346    002292  xuxiaoqiang   50000\n",
      "23     mlzx346    002292    zhangchao   50000\n"
     ]
    }
   ],
   "source": [
    "distribute_stks(diretory='ml20161125', filename='ml20161125.xls', host='10.0.2.19', port = 62123)"
   ]
  },
  {
   "cell_type": "code",
   "execution_count": null,
   "metadata": {
    "collapsed": false
   },
   "outputs": [],
   "source": []
  }
 ],
 "metadata": {
  "kernelspec": {
   "display_name": "Python 3",
   "language": "python",
   "name": "python3"
  },
  "language_info": {
   "codemirror_mode": {
    "name": "ipython",
    "version": 3
   },
   "file_extension": ".py",
   "mimetype": "text/x-python",
   "name": "python",
   "nbconvert_exporter": "python",
   "pygments_lexer": "ipython3",
   "version": "3.5.2"
  }
 },
 "nbformat": 4,
 "nbformat_minor": 1
}
